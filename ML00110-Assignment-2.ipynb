{
 "cells": [
  {
   "cell_type": "markdown",
   "metadata": {},
   "source": [
    "1.1)    Write a Python Program to implement your own myreduce() function which works exactly like\n",
    "        Python's built-in function reduce()\n",
    "  "
   ]
  },
  {
   "cell_type": "code",
   "execution_count": 33,
   "metadata": {},
   "outputs": [
    {
     "data": {
      "text/plain": [
       "45"
      ]
     },
     "execution_count": 33,
     "metadata": {},
     "output_type": "execute_result"
    }
   ],
   "source": [
    "def myreduce(func,seq):\n",
    "    result=seq[0]\n",
    "    for a in seq:\n",
    "        result=func(result,a)\n",
    "    return result\n",
    "\n",
    "def find_max(x,y):\n",
    "    if x > y:\n",
    "        return x\n",
    "    else:\n",
    "        return y\n",
    "\n",
    "check=myreduce(find_max,[2,3,45,26,37])\n",
    "check"
   ]
  },
  {
   "cell_type": "code",
   "execution_count": 34,
   "metadata": {},
   "outputs": [
    {
     "data": {
      "text/plain": [
       "45"
      ]
     },
     "execution_count": 34,
     "metadata": {},
     "output_type": "execute_result"
    }
   ],
   "source": [
    "### Using Reduce function\n",
    "from functools import reduce\n",
    "list1=[2,3,45,26,37]\n",
    "reduce(lambda a,b: a if (a>b) else b,list1)"
   ]
  },
  {
   "cell_type": "code",
   "execution_count": null,
   "metadata": {},
   "outputs": [],
   "source": []
  },
  {
   "cell_type": "markdown",
   "metadata": {},
   "source": [
    "1.2) Write a Python program to implement your own myfilter() function which works exactly like\n",
    "     Python's built-in function filter()\n",
    "     \n",
    "     "
   ]
  },
  {
   "cell_type": "code",
   "execution_count": 35,
   "metadata": {},
   "outputs": [],
   "source": [
    "def myfilter(func,seq):\n",
    "    result=[]\n",
    "    for x in seq:\n",
    "        if func(x):\n",
    "            result.append(x)\n",
    "    return result\n",
    "\n",
    "def find_even(x):\n",
    "    if (x % 2 == 0):\n",
    "        return True\n",
    "    else:\n",
    "        return False"
   ]
  },
  {
   "cell_type": "code",
   "execution_count": 36,
   "metadata": {},
   "outputs": [
    {
     "data": {
      "text/plain": [
       "[2, 12, 4]"
      ]
     },
     "execution_count": 36,
     "metadata": {},
     "output_type": "execute_result"
    }
   ],
   "source": [
    "myfilter(find_even,[2,3,7,9,12,4])"
   ]
  },
  {
   "cell_type": "code",
   "execution_count": 9,
   "metadata": {},
   "outputs": [
    {
     "data": {
      "text/plain": [
       "[2, 12, 4]"
      ]
     },
     "execution_count": 9,
     "metadata": {},
     "output_type": "execute_result"
    }
   ],
   "source": [
    "###Using filter function\n",
    "out=list(filter(lambda x: x%2==0,[2,3,7,9,12,4]))\n",
    "out"
   ]
  },
  {
   "cell_type": "code",
   "execution_count": null,
   "metadata": {},
   "outputs": [],
   "source": []
  },
  {
   "cell_type": "markdown",
   "metadata": {},
   "source": [
    "2) Implement List comprehensions to produce the following lists.\n",
    "   Write List comprehensions to produce the following Lists\n",
    "   ['A', 'C', 'A', 'D', 'G', 'I', ’L’, ‘ D’]\n",
    "   ['x', 'xx', 'xxx', 'xxxx', 'y', 'yy', 'yyy', 'yyyy', 'z', 'zz', 'zzz', 'zzzz']\n",
    "   ['x', 'y', 'z', 'xx', 'yy', 'zz', 'xx', 'yy', 'zz', 'xxxx', 'yyyy', 'zzzz']\n",
    "   [[2], [3], [4], [3], [4], [5], [4], [5], [6]]\n",
    "   [[2, 3, 4, 5], [3, 4, 5, 6], [4, 5, 6, 7], [5, 6, 7, 8]]\n",
    "   [(1, 1), (2, 1), (3, 1), (1, 2), (2, 2), (3, 2), (1, 3), (2, 3), (3, 3)]"
   ]
  },
  {
   "cell_type": "code",
   "execution_count": 27,
   "metadata": {},
   "outputs": [
    {
     "data": {
      "text/plain": [
       "['A', 'C', 'A', 'D', 'G', 'I', 'L', 'D']"
      ]
     },
     "execution_count": 27,
     "metadata": {},
     "output_type": "execute_result"
    }
   ],
   "source": [
    "Output=list(x for x in \"ACADGILD\")\n",
    "Output"
   ]
  },
  {
   "cell_type": "code",
   "execution_count": 28,
   "metadata": {},
   "outputs": [
    {
     "data": {
      "text/plain": [
       "['x', 'xx', 'xxx', 'xxxx', 'y', 'yy', 'yyy', 'yyyy', 'z', 'zz', 'zzz', 'zzzz']"
      ]
     },
     "execution_count": 28,
     "metadata": {},
     "output_type": "execute_result"
    }
   ],
   "source": [
    "Output1=list(a*b for a in \"xyz\" for b in range(1,5))\n",
    "Output1"
   ]
  },
  {
   "cell_type": "code",
   "execution_count": 29,
   "metadata": {},
   "outputs": [
    {
     "data": {
      "text/plain": [
       "['x', 'y', 'z', 'xx', 'yy', 'zz', 'xxx', 'yyy', 'zzz', 'xxxx', 'yyyy', 'zzzz']"
      ]
     },
     "execution_count": 29,
     "metadata": {},
     "output_type": "execute_result"
    }
   ],
   "source": [
    "Output2=list(a*b for a in range(1,5) for b in \"xyz\")\n",
    "Output2"
   ]
  },
  {
   "cell_type": "code",
   "execution_count": 30,
   "metadata": {},
   "outputs": [
    {
     "data": {
      "text/plain": [
       "[[2], [3], [4], [3], [4], [5], [4], [5], [6]]"
      ]
     },
     "execution_count": 30,
     "metadata": {},
     "output_type": "execute_result"
    }
   ],
   "source": [
    "Output3=list([a+b] for a in [2,3,4] for b in range(0,3))\n",
    "Output3"
   ]
  },
  {
   "cell_type": "code",
   "execution_count": 31,
   "metadata": {},
   "outputs": [
    {
     "data": {
      "text/plain": [
       "[[2, 3, 4, 5], [3, 4, 5, 6], [4, 5, 6, 7], [5, 6, 7, 8]]"
      ]
     },
     "execution_count": 31,
     "metadata": {},
     "output_type": "execute_result"
    }
   ],
   "source": [
    "Output4=list([a+b for a in [2,3,4,5]] for b in range(0,4))\n",
    "Output4"
   ]
  },
  {
   "cell_type": "code",
   "execution_count": 32,
   "metadata": {},
   "outputs": [
    {
     "data": {
      "text/plain": [
       "[(1, 1), (2, 1), (3, 1), (1, 2), (2, 2), (3, 2), (1, 3), (2, 3), (3, 3)]"
      ]
     },
     "execution_count": 32,
     "metadata": {},
     "output_type": "execute_result"
    }
   ],
   "source": [
    "Output5=list((b,a) for a in [1,2,3] for b in [1,2,3])\n",
    "Output5"
   ]
  },
  {
   "cell_type": "code",
   "execution_count": null,
   "metadata": {},
   "outputs": [],
   "source": []
  },
  {
   "cell_type": "markdown",
   "metadata": {},
   "source": [
    "3) Implement a function longestWord() that takes a list of words and returns the longest one"
   ]
  },
  {
   "cell_type": "code",
   "execution_count": 23,
   "metadata": {},
   "outputs": [],
   "source": [
    "def longestWord(word_list):\n",
    "    long_word=word_list[0]\n",
    "    for i in word_list[1:]:\n",
    "        if len(i) > len(long_word):\n",
    "            long_word=i\n",
    "        else:\n",
    "            continue\n",
    "    return long_word"
   ]
  },
  {
   "cell_type": "code",
   "execution_count": 26,
   "metadata": {},
   "outputs": [
    {
     "name": "stdout",
     "output_type": "stream",
     "text": [
      "Enter the string :Welcome! to Data science course\n",
      "Longest word is: Welcome!\n"
     ]
    }
   ],
   "source": [
    "input_string=input(\"Enter the string :\")\n",
    "word_list=input_string.split()\n",
    "a=longestWord(word_list)\n",
    "print(\"Longest word is: {}\".format(a))"
   ]
  },
  {
   "cell_type": "code",
   "execution_count": null,
   "metadata": {},
   "outputs": [],
   "source": []
  },
  {
   "cell_type": "markdown",
   "metadata": {},
   "source": [
    "###Task2"
   ]
  },
  {
   "cell_type": "markdown",
   "metadata": {},
   "source": [
    "\n",
    " 1.1) Write a Python Program(with class concepts) to find the area of the triangle using the below\n",
    "      formula.\n",
    "      area = (s*(s-a)*(s-b)*(s-c)) ** 0.5\n",
    "      Function to take the length of the sides of triangle from user should be defined in the parent\n",
    "      class and function to calculate the area should be defined in subclass."
   ]
  },
  {
   "cell_type": "code",
   "execution_count": 22,
   "metadata": {},
   "outputs": [
    {
     "name": "stdout",
     "output_type": "stream",
     "text": [
      "Enter the value of side1:5\n",
      "Enter the value of side2:5\n",
      "Enter the value of side3:6\n",
      "a= 5\n",
      "b= 5\n",
      "c= 6\n",
      "s=(a+b+c)/2= 8.0\n",
      "Area of traingle is : 12.0\n"
     ]
    }
   ],
   "source": [
    "a=int(input(\"Enter the value of side1:\"))\n",
    "b=int(input(\"Enter the value of side2:\"))\n",
    "c=int(input(\"Enter the value of side3:\"))\n",
    "\n",
    "print(\"a=\",a)\n",
    "print(\"b=\",b)\n",
    "print(\"c=\",c)\n",
    "\n",
    "class Traingle:\n",
    "    def __init__(self,side1,side2,side3):\n",
    "        self.a=side1\n",
    "        self.b=side2\n",
    "        self.c=side3\n",
    "        self.s=(self.a+self.b+self.c)/2\n",
    "\n",
    "class Area(Traingle):\n",
    "    def __init__(self):\n",
    "        super().__init__(a,b,c,)\n",
    "        self.area=(T.s*(T.s-a)*(T.s-b)*(T.s-c))**0.5\n",
    "\n",
    "T=Traingle(a,b,c)\n",
    "print(\"s=(a+b+c)/2=\",T.s)\n",
    "Traingle_area=Area()\n",
    "print(\"Area of traingle is :\",Traingle_area.area)"
   ]
  },
  {
   "cell_type": "code",
   "execution_count": null,
   "metadata": {},
   "outputs": [],
   "source": []
  },
  {
   "cell_type": "code",
   "execution_count": null,
   "metadata": {},
   "outputs": [],
   "source": []
  },
  {
   "cell_type": "markdown",
   "metadata": {},
   "source": [
    "1.2) Write a function filter_long_words() that takes a list of words and an integer n and returns the list\n",
    "     of words that are longer than n. "
   ]
  },
  {
   "cell_type": "code",
   "execution_count": 1,
   "metadata": {},
   "outputs": [],
   "source": [
    "def filter_long_words(string_list,num):\n",
    "    return (word for word in string_list if len(word)>num)"
   ]
  },
  {
   "cell_type": "code",
   "execution_count": 10,
   "metadata": {},
   "outputs": [
    {
     "name": "stdout",
     "output_type": "stream",
     "text": [
      "Enter the list of words:Hello! Welcome to the world of Machine Learning\n",
      "Enter the length:4\n",
      "['Hello!', 'Welcome', 'world', 'Machine', 'Learning']\n"
     ]
    }
   ],
   "source": [
    "input_string=input(\"Enter the list of words:\").split()\n",
    "num=int(input(\"Enter the length:\"))\n",
    "Output=filter_long_words(input_string,num)\n",
    "Output_list=[]\n",
    "for x in Output:\n",
    "    Output_list.append(x)\n",
    "    continue\n",
    "\n",
    "print(Output_list)"
   ]
  },
  {
   "cell_type": "code",
   "execution_count": null,
   "metadata": {},
   "outputs": [],
   "source": [
    "###Using for loop in function"
   ]
  },
  {
   "cell_type": "code",
   "execution_count": 13,
   "metadata": {},
   "outputs": [],
   "source": [
    "def filter_long_words1(lst,n):\n",
    "    Output_List=[]\n",
    "    for i in lst:\n",
    "        if len(i)> n:\n",
    "            Output_List.append(i)\n",
    "        else:\n",
    "            continue\n",
    "    return Output_List"
   ]
  },
  {
   "cell_type": "code",
   "execution_count": 14,
   "metadata": {},
   "outputs": [
    {
     "name": "stdout",
     "output_type": "stream",
     "text": [
      "Enter the list of words:create checkpoint before closing the work\n",
      "Enter the length:4\n",
      "['create', 'checkpoint', 'before', 'closing']\n"
     ]
    }
   ],
   "source": [
    "input_string=input(\"Enter the list of words:\").split()\n",
    "num=int(input(\"Enter the length:\"))\n",
    "Output=filter_long_words1(input_string,num)\n",
    "print(Output)"
   ]
  },
  {
   "cell_type": "code",
   "execution_count": null,
   "metadata": {},
   "outputs": [],
   "source": []
  },
  {
   "cell_type": "code",
   "execution_count": null,
   "metadata": {},
   "outputs": [],
   "source": []
  },
  {
   "cell_type": "markdown",
   "metadata": {},
   "source": [
    "2.1)Write a Python program using function concept that maps list of words into a list of integers\n",
    "    representing the lengths of the corresponding words"
   ]
  },
  {
   "cell_type": "code",
   "execution_count": 15,
   "metadata": {},
   "outputs": [],
   "source": [
    "def func_len(lst):\n",
    "    num_list=[]\n",
    "    for i in lst:\n",
    "        num_list.append(len(i))\n",
    "        continue\n",
    "    return num_list"
   ]
  },
  {
   "cell_type": "code",
   "execution_count": 16,
   "metadata": {},
   "outputs": [
    {
     "name": "stdout",
     "output_type": "stream",
     "text": [
      "[5, 4, 3, 6]\n"
     ]
    }
   ],
   "source": [
    "Output=func_len([\"Hello\",\"Word\",\"Kid\",\"School\"])\n",
    "print(Output)"
   ]
  },
  {
   "cell_type": "code",
   "execution_count": null,
   "metadata": {},
   "outputs": [],
   "source": [
    "###Using List comprehension"
   ]
  },
  {
   "cell_type": "code",
   "execution_count": 17,
   "metadata": {},
   "outputs": [
    {
     "data": {
      "text/plain": [
       "[5, 4, 3, 6]"
      ]
     },
     "execution_count": 17,
     "metadata": {},
     "output_type": "execute_result"
    }
   ],
   "source": [
    "Output=list(len(a) for a in [\"Hello\",\"Word\",\"Kid\",\"School\"])\n",
    "Output"
   ]
  },
  {
   "cell_type": "code",
   "execution_count": null,
   "metadata": {},
   "outputs": [],
   "source": []
  },
  {
   "cell_type": "code",
   "execution_count": null,
   "metadata": {},
   "outputs": [],
   "source": []
  },
  {
   "cell_type": "markdown",
   "metadata": {},
   "source": [
    "2.2)Write a Python function which takes a character (i.e. a string of length 1) and returns True if it is\n",
    "    a vowel, False otherwise"
   ]
  },
  {
   "cell_type": "code",
   "execution_count": 21,
   "metadata": {},
   "outputs": [
    {
     "name": "stdout",
     "output_type": "stream",
     "text": [
      "True\n"
     ]
    }
   ],
   "source": [
    "def find_vowel(char):\n",
    "    vowel_list=[\"a\",\"e\",\"i\",\"o\",\"u\",\"A\",\"E\",\"I\",\"O\",\"U\"]\n",
    "    if char in vowel_list:\n",
    "        return True\n",
    "    else:\n",
    "        return False\n",
    "\n",
    "print(find_vowel('e'))"
   ]
  },
  {
   "cell_type": "code",
   "execution_count": null,
   "metadata": {},
   "outputs": [],
   "source": []
  }
 ],
 "metadata": {
  "kernelspec": {
   "display_name": "Python 3",
   "language": "python",
   "name": "python3"
  },
  "language_info": {
   "codemirror_mode": {
    "name": "ipython",
    "version": 3
   },
   "file_extension": ".py",
   "mimetype": "text/x-python",
   "name": "python",
   "nbconvert_exporter": "python",
   "pygments_lexer": "ipython3",
   "version": "3.7.3"
  }
 },
 "nbformat": 4,
 "nbformat_minor": 2
}
