{
 "cells": [
  {
   "cell_type": "markdown",
   "metadata": {},
   "source": [
    "#### Problem Statement 1:\n",
    "A test is conducted which is consisting of 20 MCQs (multiple choices questions) with every\n",
    "MCQ having its four options out of which only one is correct. Determine the probability that\n",
    "a person undertaking that test has answered exactly 5 questions wrong."
   ]
  },
  {
   "cell_type": "markdown",
   "metadata": {},
   "source": [
    "    Answers 20 questions.\n",
    "    Each question has 4 options with only one correct answer and all other incorrect answers.\n",
    "    Student is equally likely to pick any outcome in any given question.\n",
    "    Hence, probability of choosing correct answer is 1/4 = 0.25. \n",
    "    Probability of choosing incorrect answer is 1–1/4 = 3/4 = 0.75.\n",
    "    The number of trials is 20.\n",
    "    Total number of success is exactly 15 and failure is 5 amongst the 20 questions in any particular order.\n",
    "\n",
    "\n",
    "\n",
    "Need to Apply Binomial probability distribution.\n",
    "\n",
    "P(15 correct ; 5 wrong)\n",
    "\n",
    "= 20C15 × (0.25)^15 × (0.75)^5\n",
    "\n",
    "= [20!/(15!*5!)]*(0.25)^15*(0.75)^5\n",
    "\n",
    "=0.00000342649\n"
   ]
  },
  {
   "cell_type": "markdown",
   "metadata": {},
   "source": [
    "#### Problem Statement 2:\n",
    "A die marked A to E is rolled 50 times. Find the probability of getting a “D” exactly\n",
    "5 times."
   ]
  },
  {
   "cell_type": "markdown",
   "metadata": {},
   "source": [
    "The probability of getting a D on a given throw is 1/5.\n",
    "\n",
    "The probability of getting a non-D on a given throw is 4/5.\n",
    "\n",
    "The probability of getting a specific sequence of five D's and 45 non-D's is:\n",
    "\n",
    "[(1/5)**5] * [(4/5)**45]\n",
    "\n",
    "So i can choose any 5 combination of getting D among 50.\n",
    "so the result is,\n",
    "\n",
    "=(50C5)*[(1/5)**5] * [(4/5)**45]\n",
    "\n",
    "=2118760*(0.2**5)*(0.8**45)\n",
    "\n",
    "=0.02953120431\n"
   ]
  },
  {
   "cell_type": "markdown",
   "metadata": {},
   "source": [
    "#### Problem Statement 3:\n",
    "Two balls are drawn at random in succession without replacement from an urn\n",
    "containing 4 red balls and 6 black balls.\n",
    "Find the probabilities of all the possible outcomes."
   ]
  },
  {
   "cell_type": "code",
   "execution_count": null,
   "metadata": {},
   "outputs": [],
   "source": [
    "First determine the probabilities of the events.\n",
    "\n",
    "  events           Probability\n",
    "    RR          (4/10)(3/9) = 2/15\n",
    "    RB          (4/10)(6/9) = 4/15\n",
    "    BR          (6/10)(4/9) = 4/15 \n",
    "    BB          (6/10)(5/9) = 1/3\n",
    "\n",
    "The probability of 0 black balls (RR)is 2/15\n",
    "The probability of 1 black ball is (RB or BR) is 4/15+4/15 = 8/15\n",
    "The probability of 2 black balls (BB) is 1/3\n",
    "\n",
    "So the probability distribution is:\n",
    "\n",
    "Z  p(Z)\n",
    "--------   \n",
    "0   2/15\n",
    "1   8/15\n",
    "2   1/3\n"
   ]
  },
  {
   "cell_type": "code",
   "execution_count": null,
   "metadata": {},
   "outputs": [],
   "source": []
  }
 ],
 "metadata": {
  "kernelspec": {
   "display_name": "Python 3",
   "language": "python",
   "name": "python3"
  },
  "language_info": {
   "codemirror_mode": {
    "name": "ipython",
    "version": 3
   },
   "file_extension": ".py",
   "mimetype": "text/x-python",
   "name": "python",
   "nbconvert_exporter": "python",
   "pygments_lexer": "ipython3",
   "version": "3.7.6"
  }
 },
 "nbformat": 4,
 "nbformat_minor": 2
}
