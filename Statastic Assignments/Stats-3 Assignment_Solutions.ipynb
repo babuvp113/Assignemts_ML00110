{
 "cells": [
  {
   "cell_type": "markdown",
   "metadata": {},
   "source": [
    "#### 1.  Blood glucose levels for obese patients have a mean of 100 with a standard deviation of 15. A researcher thinks that a diet high in raw cornstarch will have a positive effect on blood glucose levels. A sample of 36 patients who have tried the raw cornstarch diet have a mean glucose level of 108. Test the hypothesis that the raw cornstarch had an effect or not."
   ]
  },
  {
   "cell_type": "markdown",
   "metadata": {},
   "source": [
    "#### Solution:\n",
    "Null Hypothesis : Blood glucose levels for Obese patients have a mean of 100 so, Ho= mean =100\n",
    "Alternate Hypothesis : Blood glucose levels for Obese patients have a mean not equal to 100 H1 != 100\n",
    "\n",
    "Alpha value  = 0.05 , Since it is two tailed test, Alpha/2 = 0.05/2 = 0.025\n",
    "\n",
    "As per the Z table Z value for probability value(0.025) is 1.96\n",
    "\n",
    "we calculate Z value for our problem statement Z = (108 - 100)/(15/sqrt(36)\n",
    "Z = 3.2\n",
    "\n",
    "So our calculated Z value is greater than the Alpha(Z value), hence we reject the null hypothesis.\n",
    "So Raw cornstarch has a positive impact on the blood glocose level.\n",
    "<img src='Zscore-Formula.png'>"
   ]
  },
  {
   "cell_type": "markdown",
   "metadata": {},
   "source": [
    "#### 2. In one state, 52% of the voters are Republicans, and 48% are Democrats. In a second state, 47% of the voters are Republicans, and 53% are Democrats. Suppose a simple random sample of 100 voters are surveyed from each state. What is the probability that the survey will show a greater percentage of Republican voters in the second state than in the first state?"
   ]
  },
  {
   "cell_type": "markdown",
   "metadata": {},
   "source": [
    "#### Solution:\n",
    "proportion of Republican voters in 1st state = n*p1 = 100*0.52 = 52\n",
    "proportion of Republican voters in 2nd state = n*p2 = 100*0.47 = 47\n",
    "\n",
    "mean difference in sample proportion = 0.52-0.47 = 0.05\n",
    "standard deviation for difference = sqrt {[(p1*(1-p1)/n1 ] + [p2*(1-p2)/n2]}\n",
    "                                    sqrt(0.52*0.48/100)+(0.47*0.53/100) = 0.07\n",
    "\n",
    "Z score = 0-0.05/0.07= -0.71\n",
    "probability value for Z score = -.71 = 0.242\n",
    "\n",
    "Therefore, the probability that the survey will show a greater percentage of Republican voters in the second state than in the first state is 0.24. \n"
   ]
  },
  {
   "cell_type": "markdown",
   "metadata": {},
   "source": [
    "#### 3. You take the SAT and score 1100. The mean score for the SAT is 1026 and the standard deviation is 209. How well did you score on the test compared to the average test taker?"
   ]
  },
  {
   "cell_type": "markdown",
   "metadata": {},
   "source": [
    "#### Solution:\n",
    "Let us calculate the Z score for my SAT score.\n",
    "\n",
    "Z = 1100-1026/209 = 0.354\n",
    "\n",
    "Z score 0.354 means that my SAT score is 0.354 std above the mean.\n",
    "\n",
    "lets calculate the probability value using Z table = 0.6368\n",
    "\n",
    "So my score is over the mean SAT score  and there are 63% of the people who scored less than me."
   ]
  },
  {
   "cell_type": "code",
   "execution_count": null,
   "metadata": {},
   "outputs": [],
   "source": []
  }
 ],
 "metadata": {
  "kernelspec": {
   "display_name": "Python 3",
   "language": "python",
   "name": "python3"
  },
  "language_info": {
   "codemirror_mode": {
    "name": "ipython",
    "version": 3
   },
   "file_extension": ".py",
   "mimetype": "text/x-python",
   "name": "python",
   "nbconvert_exporter": "python",
   "pygments_lexer": "ipython3",
   "version": "3.7.6"
  }
 },
 "nbformat": 4,
 "nbformat_minor": 2
}
