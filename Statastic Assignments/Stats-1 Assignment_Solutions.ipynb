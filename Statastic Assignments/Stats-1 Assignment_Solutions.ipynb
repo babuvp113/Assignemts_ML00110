{
 "cells": [
  {
   "cell_type": "markdown",
   "metadata": {},
   "source": [
    "#### Problem Statement 1: You survey households in your area to find the average rent they are paying. Find the standard deviation from the following data: $1550, $1700, $900, $850, $1000, $950."
   ]
  },
  {
   "cell_type": "code",
   "execution_count": 12,
   "metadata": {},
   "outputs": [
    {
     "name": "stdout",
     "output_type": "stream",
     "text": [
      "Calculation using own method\n",
      "Mean 1158.3333333333333\n",
      "variance 135416.6666666667\n",
      "std_dev 367.99003609699366\n",
      "\n",
      "Calculation using statistics library\n",
      "Mean 1158.3333333333333\n",
      "Variance 135416.66666666666\n",
      "std_dev 367.9900360969936\n"
     ]
    }
   ],
   "source": [
    "def find_mean(arr):\n",
    "    return sum(arr)/len(arr)\n",
    "\n",
    "def find_variance(arr):\n",
    "    var = 0\n",
    "    mean = find_mean(arr)\n",
    "    var = sum((x - mean)**2 for x in arr)/(len(arr)-1)\n",
    "    return var\n",
    "def find_std(arr):\n",
    "    return find_variance(arr) ** 0.5\n",
    "\n",
    "arr = [1550,1700,900,850,1000,950]\n",
    "\n",
    "print(\"Calculation using own method\")\n",
    "print (\"Mean \" + str(find_mean(arr)))\n",
    "print (\"variance \" + str(find_variance(arr)))\n",
    "print(\"std_dev \" + str(find_std(arr)))\n",
    "\n",
    "print(\"\\nCalculation using statistics library\")\n",
    "import statistics as stat\n",
    "print(str(\"Mean \" + str(stat.mean(arr))))\n",
    "print(str(\"Variance \" + str(stat.variance(arr))))\n",
    "print(str(\"std_dev \" + str(stat.stdev(arr))))"
   ]
  },
  {
   "cell_type": "markdown",
   "metadata": {},
   "source": [
    "#### Problem Statement 2: Find the variance for the following set of data representing trees in California (heights in feet): 3, 21, 98, 203, 17, 9"
   ]
  },
  {
   "cell_type": "code",
   "execution_count": 11,
   "metadata": {},
   "outputs": [
    {
     "name": "stdout",
     "output_type": "stream",
     "text": [
      "Varience:6219.9\n",
      "Mean:58.5\n"
     ]
    }
   ],
   "source": [
    "def find_mean(arr):\n",
    "    return sum(arr)/len(arr)\n",
    "\n",
    "def find_var(arr):\n",
    "    mean = find_mean(arr)\n",
    "    varience = sum((x-mean)**2 for x in arr)/(len(arr)-1)\n",
    "    return varience\n",
    "arr = [3,21,98,203,17,9]\n",
    "\n",
    "print(\"Varience:\" + str(find_var(arr)))\n",
    "print(\"Mean:\" + str(find_mean(arr)))\n",
    "    "
   ]
  },
  {
   "cell_type": "markdown",
   "metadata": {},
   "source": [
    "#### Problem Statement 3: In a class on 100 students, 80 students passed in all subjects, 10 failed in one subject, 7 failed in two subjects and 3 failed in three subjects. Find the probability distribution of the variable for number of subjects a student from the given class has failed in.\n",
    "\n",
    "Solution:\n",
    "\n",
    "    X num of subject failed   1         2        3\n",
    "    \n",
    "    probability of X, P(X)    10/20    7/20     3/20"
   ]
  },
  {
   "cell_type": "code",
   "execution_count": null,
   "metadata": {},
   "outputs": [],
   "source": []
  }
 ],
 "metadata": {
  "kernelspec": {
   "display_name": "Python 3",
   "language": "python",
   "name": "python3"
  },
  "language_info": {
   "codemirror_mode": {
    "name": "ipython",
    "version": 3
   },
   "file_extension": ".py",
   "mimetype": "text/x-python",
   "name": "python",
   "nbconvert_exporter": "python",
   "pygments_lexer": "ipython3",
   "version": "3.7.6"
  }
 },
 "nbformat": 4,
 "nbformat_minor": 2
}
